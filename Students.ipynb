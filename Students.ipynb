{
 "cells": [
  {
   "cell_type": "code",
   "execution_count": 15,
   "metadata": {
    "collapsed": true
   },
   "outputs": [],
   "source": [
    "import numpy as np\n",
    "import pandas as pd\n",
    "import matplotlib.pyplot as plt\n",
    "#from pandas.tools.plotting import scatter_matrix\n",
    "%matplotlib inline"
   ]
  },
  {
   "cell_type": "markdown",
   "metadata": {},
   "source": [
    "# Exploring Data using Python "
   ]
  },
  {
   "cell_type": "markdown",
   "metadata": {},
   "source": [
    "## Load Data"
   ]
  },
  {
   "cell_type": "code",
   "execution_count": 16,
   "metadata": {
    "collapsed": true
   },
   "outputs": [],
   "source": [
    "dataframe=pd.read_csv(\"student-mat.csv\",sep=\";\") # math students"
   ]
  },
  {
   "cell_type": "markdown",
   "metadata": {},
   "source": [
    "## Take a Look"
   ]
  },
  {
   "cell_type": "markdown",
   "metadata": {},
   "source": [
    "Before doing anything to our dataset we want to explore it."
   ]
  },
  {
   "cell_type": "code",
   "execution_count": 17,
   "metadata": {
    "collapsed": false
   },
   "outputs": [
    {
     "data": {
      "text/html": [
       "<div style=\"max-height:1000px;max-width:1500px;overflow:auto;\">\n",
       "<table border=\"1\" class=\"dataframe\">\n",
       "  <thead>\n",
       "    <tr style=\"text-align: right;\">\n",
       "      <th></th>\n",
       "      <th>school</th>\n",
       "      <th>sex</th>\n",
       "      <th>age</th>\n",
       "      <th>address</th>\n",
       "      <th>famsize</th>\n",
       "      <th>Pstatus</th>\n",
       "      <th>Medu</th>\n",
       "      <th>Fedu</th>\n",
       "      <th>Mjob</th>\n",
       "      <th>Fjob</th>\n",
       "      <th>...</th>\n",
       "      <th>famrel</th>\n",
       "      <th>freetime</th>\n",
       "      <th>goout</th>\n",
       "      <th>Dalc</th>\n",
       "      <th>Walc</th>\n",
       "      <th>health</th>\n",
       "      <th>absences</th>\n",
       "      <th>G1</th>\n",
       "      <th>G2</th>\n",
       "      <th>G3</th>\n",
       "    </tr>\n",
       "  </thead>\n",
       "  <tbody>\n",
       "    <tr>\n",
       "      <th>0</th>\n",
       "      <td> GP</td>\n",
       "      <td> F</td>\n",
       "      <td> 18</td>\n",
       "      <td> U</td>\n",
       "      <td> GT3</td>\n",
       "      <td> A</td>\n",
       "      <td> 4</td>\n",
       "      <td> 4</td>\n",
       "      <td> at_home</td>\n",
       "      <td>  teacher</td>\n",
       "      <td>...</td>\n",
       "      <td> 4</td>\n",
       "      <td> 3</td>\n",
       "      <td> 4</td>\n",
       "      <td> 1</td>\n",
       "      <td> 1</td>\n",
       "      <td> 3</td>\n",
       "      <td>  6</td>\n",
       "      <td>  5</td>\n",
       "      <td>  6</td>\n",
       "      <td>  6</td>\n",
       "    </tr>\n",
       "    <tr>\n",
       "      <th>1</th>\n",
       "      <td> GP</td>\n",
       "      <td> F</td>\n",
       "      <td> 17</td>\n",
       "      <td> U</td>\n",
       "      <td> GT3</td>\n",
       "      <td> T</td>\n",
       "      <td> 1</td>\n",
       "      <td> 1</td>\n",
       "      <td> at_home</td>\n",
       "      <td>    other</td>\n",
       "      <td>...</td>\n",
       "      <td> 5</td>\n",
       "      <td> 3</td>\n",
       "      <td> 3</td>\n",
       "      <td> 1</td>\n",
       "      <td> 1</td>\n",
       "      <td> 3</td>\n",
       "      <td>  4</td>\n",
       "      <td>  5</td>\n",
       "      <td>  5</td>\n",
       "      <td>  6</td>\n",
       "    </tr>\n",
       "    <tr>\n",
       "      <th>2</th>\n",
       "      <td> GP</td>\n",
       "      <td> F</td>\n",
       "      <td> 15</td>\n",
       "      <td> U</td>\n",
       "      <td> LE3</td>\n",
       "      <td> T</td>\n",
       "      <td> 1</td>\n",
       "      <td> 1</td>\n",
       "      <td> at_home</td>\n",
       "      <td>    other</td>\n",
       "      <td>...</td>\n",
       "      <td> 4</td>\n",
       "      <td> 3</td>\n",
       "      <td> 2</td>\n",
       "      <td> 2</td>\n",
       "      <td> 3</td>\n",
       "      <td> 3</td>\n",
       "      <td> 10</td>\n",
       "      <td>  7</td>\n",
       "      <td>  8</td>\n",
       "      <td> 10</td>\n",
       "    </tr>\n",
       "    <tr>\n",
       "      <th>3</th>\n",
       "      <td> GP</td>\n",
       "      <td> F</td>\n",
       "      <td> 15</td>\n",
       "      <td> U</td>\n",
       "      <td> GT3</td>\n",
       "      <td> T</td>\n",
       "      <td> 4</td>\n",
       "      <td> 2</td>\n",
       "      <td>  health</td>\n",
       "      <td> services</td>\n",
       "      <td>...</td>\n",
       "      <td> 3</td>\n",
       "      <td> 2</td>\n",
       "      <td> 2</td>\n",
       "      <td> 1</td>\n",
       "      <td> 1</td>\n",
       "      <td> 5</td>\n",
       "      <td>  2</td>\n",
       "      <td> 15</td>\n",
       "      <td> 14</td>\n",
       "      <td> 15</td>\n",
       "    </tr>\n",
       "    <tr>\n",
       "      <th>4</th>\n",
       "      <td> GP</td>\n",
       "      <td> F</td>\n",
       "      <td> 16</td>\n",
       "      <td> U</td>\n",
       "      <td> GT3</td>\n",
       "      <td> T</td>\n",
       "      <td> 3</td>\n",
       "      <td> 3</td>\n",
       "      <td>   other</td>\n",
       "      <td>    other</td>\n",
       "      <td>...</td>\n",
       "      <td> 4</td>\n",
       "      <td> 3</td>\n",
       "      <td> 2</td>\n",
       "      <td> 1</td>\n",
       "      <td> 2</td>\n",
       "      <td> 5</td>\n",
       "      <td>  4</td>\n",
       "      <td>  6</td>\n",
       "      <td> 10</td>\n",
       "      <td> 10</td>\n",
       "    </tr>\n",
       "  </tbody>\n",
       "</table>\n",
       "<p>5 rows × 33 columns</p>\n",
       "</div>"
      ],
      "text/plain": [
       "  school sex  age address famsize Pstatus  Medu  Fedu     Mjob      Fjob  \\\n",
       "0     GP   F   18       U     GT3       A     4     4  at_home   teacher   \n",
       "1     GP   F   17       U     GT3       T     1     1  at_home     other   \n",
       "2     GP   F   15       U     LE3       T     1     1  at_home     other   \n",
       "3     GP   F   15       U     GT3       T     4     2   health  services   \n",
       "4     GP   F   16       U     GT3       T     3     3    other     other   \n",
       "\n",
       "     ...    famrel freetime  goout  Dalc  Walc health absences  G1  G2  G3  \n",
       "0    ...         4        3      4     1     1      3        6   5   6   6  \n",
       "1    ...         5        3      3     1     1      3        4   5   5   6  \n",
       "2    ...         4        3      2     2     3      3       10   7   8  10  \n",
       "3    ...         3        2      2     1     1      5        2  15  14  15  \n",
       "4    ...         4        3      2     1     2      5        4   6  10  10  \n",
       "\n",
       "[5 rows x 33 columns]"
      ]
     },
     "execution_count": 17,
     "metadata": {},
     "output_type": "execute_result"
    }
   ],
   "source": [
    "#dataframe[0:5] \n",
    "dataframe.head(5)"
   ]
  },
  {
   "cell_type": "code",
   "execution_count": 18,
   "metadata": {
    "collapsed": false
   },
   "outputs": [
    {
     "name": "stdout",
     "output_type": "stream",
     "text": [
      "<class 'pandas.core.frame.DataFrame'>\n",
      "Int64Index: 395 entries, 0 to 394\n",
      "Data columns (total 33 columns):\n",
      "school        395 non-null object\n",
      "sex           395 non-null object\n",
      "age           395 non-null int64\n",
      "address       395 non-null object\n",
      "famsize       395 non-null object\n",
      "Pstatus       395 non-null object\n",
      "Medu          395 non-null int64\n",
      "Fedu          395 non-null int64\n",
      "Mjob          395 non-null object\n",
      "Fjob          395 non-null object\n",
      "reason        395 non-null object\n",
      "guardian      395 non-null object\n",
      "traveltime    395 non-null int64\n",
      "studytime     395 non-null int64\n",
      "failures      395 non-null int64\n",
      "schoolsup     395 non-null object\n",
      "famsup        395 non-null object\n",
      "paid          395 non-null object\n",
      "activities    395 non-null object\n",
      "nursery       395 non-null object\n",
      "higher        395 non-null object\n",
      "internet      395 non-null object\n",
      "romantic      395 non-null object\n",
      "famrel        395 non-null int64\n",
      "freetime      395 non-null int64\n",
      "goout         395 non-null int64\n",
      "Dalc          395 non-null int64\n",
      "Walc          395 non-null int64\n",
      "health        395 non-null int64\n",
      "absences      395 non-null int64\n",
      "G1            395 non-null int64\n",
      "G2            395 non-null int64\n",
      "G3            395 non-null int64\n",
      "dtypes: int64(16), object(17)"
     ]
    }
   ],
   "source": [
    "dataframe.info()"
   ]
  },
  {
   "cell_type": "markdown",
   "metadata": {},
   "source": [
    "<h2>Get columns's information </h2>"
   ]
  },
  {
   "cell_type": "code",
   "execution_count": 19,
   "metadata": {
    "collapsed": false
   },
   "outputs": [
    {
     "data": {
      "text/plain": [
       "Index([u'school', u'sex', u'age', u'address', u'famsize', u'Pstatus', u'Medu', u'Fedu', u'Mjob', u'Fjob', u'reason', u'guardian', u'traveltime', u'studytime', u'failures', u'schoolsup', u'famsup', u'paid', u'activities', u'nursery', u'higher', u'internet', u'romantic', u'famrel', u'freetime', u'goout', u'Dalc', u'Walc', u'health', u'absences', u'G1', u'G2', u'G3'], dtype='object')"
      ]
     },
     "execution_count": 19,
     "metadata": {},
     "output_type": "execute_result"
    }
   ],
   "source": [
    "dataframe.columns"
   ]
  },
  {
   "cell_type": "markdown",
   "metadata": {},
   "source": [
    "Specific column"
   ]
  },
  {
   "cell_type": "code",
   "execution_count": 20,
   "metadata": {
    "collapsed": false
   },
   "outputs": [
    {
     "data": {
      "text/plain": [
       "0    GT3\n",
       "1    GT3\n",
       "2    LE3\n",
       "3    GT3\n",
       "4    GT3\n",
       "Name: famsize, dtype: object"
      ]
     },
     "execution_count": 20,
     "metadata": {},
     "output_type": "execute_result"
    }
   ],
   "source": [
    "dataframe.famsize.head(5) "
   ]
  },
  {
   "cell_type": "markdown",
   "metadata": {},
   "source": [
    "## Subset "
   ]
  },
  {
   "cell_type": "code",
   "execution_count": 21,
   "metadata": {
    "collapsed": false
   },
   "outputs": [
    {
     "data": {
      "text/html": [
       "<div style=\"max-height:1000px;max-width:1500px;overflow:auto;\">\n",
       "<table border=\"1\" class=\"dataframe\">\n",
       "  <thead>\n",
       "    <tr style=\"text-align: right;\">\n",
       "      <th></th>\n",
       "      <th>address</th>\n",
       "      <th>school</th>\n",
       "    </tr>\n",
       "  </thead>\n",
       "  <tbody>\n",
       "    <tr>\n",
       "      <th>0</th>\n",
       "      <td> U</td>\n",
       "      <td> GP</td>\n",
       "    </tr>\n",
       "    <tr>\n",
       "      <th>1</th>\n",
       "      <td> U</td>\n",
       "      <td> GP</td>\n",
       "    </tr>\n",
       "  </tbody>\n",
       "</table>\n",
       "</div>"
      ],
      "text/plain": [
       "  address school\n",
       "0       U     GP\n",
       "1       U     GP"
      ]
     },
     "execution_count": 21,
     "metadata": {},
     "output_type": "execute_result"
    }
   ],
   "source": [
    "dataframe[[\"address\",\"school\"]].head(2) "
   ]
  },
  {
   "cell_type": "markdown",
   "metadata": {},
   "source": [
    "# Get the average value from a column (mean) and standart deviation"
   ]
  },
  {
   "cell_type": "code",
   "execution_count": 22,
   "metadata": {
    "collapsed": false
   },
   "outputs": [
    {
     "name": "stdout",
     "output_type": "stream",
     "text": [
      "Students years average:  16.6962025316\n",
      "Students years std:  1.27604272461\n"
     ]
    }
   ],
   "source": [
    "mean=dataframe.age.mean()\n",
    "print \"Students years average: \",  mean\n",
    "std= dataframe.age.std()\n",
    "print \"Students years std: \",  std"
   ]
  },
  {
   "cell_type": "markdown",
   "metadata": {},
   "source": [
    "# Visualization"
   ]
  },
  {
   "cell_type": "code",
   "execution_count": 23,
   "metadata": {
    "collapsed": false
   },
   "outputs": [
    {
     "name": "stdout",
     "output_type": "stream",
     "text": [
      "Ages in dataset:  [18 17 15 16 19 22 20 21]\n"
     ]
    },
    {
     "data": {
      "text/plain": [
       "<matplotlib.figure.Figure at 0x7fb145131d90>"
      ]
     },
     "metadata": {},
     "output_type": "display_data"
    }
   ],
   "source": [
    "plt.figure(figsize=(10,10))\n",
    "print \"Ages in dataset: \",dataframe.age.unique()"
   ]
  },
  {
   "cell_type": "code",
   "execution_count": 24,
   "metadata": {
    "collapsed": false
   },
   "outputs": [
    {
     "data": {
      "text/plain": [
       "(array([  82.,  104.,   98.,   82.,   24.,    3.,    1.,    1.]),\n",
       " array([ 15.   ,  15.875,  16.75 ,  17.625,  18.5  ,  19.375,  20.25 ,\n",
       "         21.125,  22.   ]),\n",
       " <a list of 8 Patch objects>)"
      ]
     },
     "execution_count": 24,
     "metadata": {},
     "output_type": "execute_result"
    },
    {
     "data": {
      "image/png": "[encoded data removed]",
      "text/plain": [
       "<matplotlib.figure.Figure at 0x7fb147816050>"
      ]
     },
     "metadata": {},
     "output_type": "display_data"
    }
   ],
   "source": [
    "plt.hist(dataframe['age'],bins=8)"
   ]
  },
  {
   "cell_type": "markdown",
   "metadata": {},
   "source": [
    "# Delete columns"
   ]
  },
  {
   "cell_type": "code",
   "execution_count": 25,
   "metadata": {
    "collapsed": false
   },
   "outputs": [],
   "source": [
    "dataframe=dataframe.drop([\"school\",\"reason\",\"nursery\"],axis=1) # column or list of columns we want to dlete."
   ]
  },
  {
   "cell_type": "code",
   "execution_count": 52,
   "metadata": {
    "collapsed": false
   },
   "outputs": [
    {
     "data": {
      "text/html": [
       "<div style=\"max-height:1000px;max-width:1500px;overflow:auto;\">\n",
       "<table border=\"1\" class=\"dataframe\">\n",
       "  <thead>\n",
       "    <tr style=\"text-align: right;\">\n",
       "      <th></th>\n",
       "      <th>sex</th>\n",
       "      <th>age</th>\n",
       "      <th>famsize</th>\n",
       "      <th>famsup</th>\n",
       "      <th>traveltime</th>\n",
       "      <th>health</th>\n",
       "    </tr>\n",
       "  </thead>\n",
       "  <tbody>\n",
       "    <tr>\n",
       "      <th>0</th>\n",
       "      <td> F</td>\n",
       "      <td> 18</td>\n",
       "      <td> GT3</td>\n",
       "      <td>  no</td>\n",
       "      <td> 2</td>\n",
       "      <td> 3</td>\n",
       "    </tr>\n",
       "    <tr>\n",
       "      <th>1</th>\n",
       "      <td> F</td>\n",
       "      <td> 17</td>\n",
       "      <td> GT3</td>\n",
       "      <td> yes</td>\n",
       "      <td> 1</td>\n",
       "      <td> 3</td>\n",
       "    </tr>\n",
       "    <tr>\n",
       "      <th>2</th>\n",
       "      <td> F</td>\n",
       "      <td> 15</td>\n",
       "      <td> LE3</td>\n",
       "      <td>  no</td>\n",
       "      <td> 1</td>\n",
       "      <td> 3</td>\n",
       "    </tr>\n",
       "  </tbody>\n",
       "</table>\n",
       "</div>"
      ],
      "text/plain": [
       "  sex  age famsize famsup  traveltime  health\n",
       "0   F   18     GT3     no           2       3\n",
       "1   F   17     GT3    yes           1       3\n",
       "2   F   15     LE3     no           1       3"
      ]
     },
     "execution_count": 52,
     "metadata": {},
     "output_type": "execute_result"
    }
   ],
   "source": [
    "subset=dataframe[[\"sex\",\"age\",\"famsize\",\"famsup\",\"traveltime\",\"health\"]]\n",
    "subset.head(3)"
   ]
  },
  {
   "cell_type": "code",
   "execution_count": 53,
   "metadata": {
    "collapsed": false
   },
   "outputs": [
    {
     "data": {
      "text/html": [
       "<div style=\"max-height:1000px;max-width:1500px;overflow:auto;\">\n",
       "<table border=\"1\" class=\"dataframe\">\n",
       "  <thead>\n",
       "    <tr style=\"text-align: right;\">\n",
       "      <th></th>\n",
       "      <th>sex</th>\n",
       "      <th>age</th>\n",
       "      <th>famsize</th>\n",
       "      <th>famsup</th>\n",
       "      <th>traveltime</th>\n",
       "      <th>health</th>\n",
       "    </tr>\n",
       "  </thead>\n",
       "  <tbody>\n",
       "    <tr>\n",
       "      <th>130</th>\n",
       "      <td> F</td>\n",
       "      <td> 15</td>\n",
       "      <td> GT3</td>\n",
       "      <td> yes</td>\n",
       "      <td> 2</td>\n",
       "      <td> 5</td>\n",
       "    </tr>\n",
       "    <tr>\n",
       "      <th>102</th>\n",
       "      <td> M</td>\n",
       "      <td> 15</td>\n",
       "      <td> GT3</td>\n",
       "      <td> yes</td>\n",
       "      <td> 1</td>\n",
       "      <td> 5</td>\n",
       "    </tr>\n",
       "    <tr>\n",
       "      <th>103</th>\n",
       "      <td> F</td>\n",
       "      <td> 15</td>\n",
       "      <td> GT3</td>\n",
       "      <td> yes</td>\n",
       "      <td> 2</td>\n",
       "      <td> 2</td>\n",
       "    </tr>\n",
       "  </tbody>\n",
       "</table>\n",
       "</div>"
      ],
      "text/plain": [
       "    sex  age famsize famsup  traveltime  health\n",
       "130   F   15     GT3    yes           2       5\n",
       "102   M   15     GT3    yes           1       5\n",
       "103   F   15     GT3    yes           2       2"
      ]
     },
     "execution_count": 53,
     "metadata": {},
     "output_type": "execute_result"
    }
   ],
   "source": [
    "subset=subset.sort(\"age\")\n",
    "subset.head(3)"
   ]
  },
  {
   "cell_type": "code",
   "execution_count": 54,
   "metadata": {
    "collapsed": false
   },
   "outputs": [
    {
     "data": {
      "text/plain": [
       "{'boxes': [<matplotlib.lines.Line2D at 0x7fb12323e050>,\n",
       "  <matplotlib.lines.Line2D at 0x7fb123253910>,\n",
       "  <matplotlib.lines.Line2D at 0x7fb123272550>],\n",
       " 'caps': [<matplotlib.lines.Line2D at 0x7fb12323ef90>,\n",
       "  <matplotlib.lines.Line2D at 0x7fb123248610>,\n",
       "  <matplotlib.lines.Line2D at 0x7fb12325dbd0>,\n",
       "  <matplotlib.lines.Line2D at 0x7fb123269250>,\n",
       "  <matplotlib.lines.Line2D at 0x7fb1231fd810>,\n",
       "  <matplotlib.lines.Line2D at 0x7fb1231fde50>],\n",
       " 'fliers': [<matplotlib.lines.Line2D at 0x7fb1232532d0>,\n",
       "  <matplotlib.lines.Line2D at 0x7fb123269ed0>,\n",
       "  <matplotlib.lines.Line2D at 0x7fb123207b10>],\n",
       " 'means': [],\n",
       " 'medians': [<matplotlib.lines.Line2D at 0x7fb123248c50>,\n",
       "  <matplotlib.lines.Line2D at 0x7fb123269890>,\n",
       "  <matplotlib.lines.Line2D at 0x7fb1232074d0>],\n",
       " 'whiskers': [<matplotlib.lines.Line2D at 0x7fb1233381d0>,\n",
       "  <matplotlib.lines.Line2D at 0x7fb12323e950>,\n",
       "  <matplotlib.lines.Line2D at 0x7fb123253f10>,\n",
       "  <matplotlib.lines.Line2D at 0x7fb12325d590>,\n",
       "  <matplotlib.lines.Line2D at 0x7fb123272b50>,\n",
       "  <matplotlib.lines.Line2D at 0x7fb1231fd1d0>]}"
      ]
     },
     "execution_count": 54,
     "metadata": {},
     "output_type": "execute_result"
    },
    {
     "data": {
      "image/png": "[encoded data removed]",
      "text/plain": [
       "<matplotlib.figure.Figure at 0x7fb12343ad90>"
      ]
     },
     "metadata": {},
     "output_type": "display_data"
    }
   ],
   "source": [
    "subset.boxplot()"
   ]
  },
  {
   "cell_type": "code",
   "execution_count": 56,
   "metadata": {
    "collapsed": false
   },
   "outputs": [
    {
     "data": {
      "text/plain": [
       "array([[<matplotlib.axes._subplots.AxesSubplot object at 0x7fb1232d3850>,\n",
       "        <matplotlib.axes._subplots.AxesSubplot object at 0x7fb1231aa290>],\n",
       "       [<matplotlib.axes._subplots.AxesSubplot object at 0x7fb12312a050>,\n",
       "        <matplotlib.axes._subplots.AxesSubplot object at 0x7fb123088410>]], dtype=object)"
      ]
     },
     "execution_count": 56,
     "metadata": {},
     "output_type": "execute_result"
    },
    {
     "data": {
      "image/png": "[encoded data removed]",
      "text/plain": [
       "<matplotlib.figure.Figure at 0x7fb1232ec390>"
      ]
     },
     "metadata": {},
     "output_type": "display_data"
    }
   ],
   "source": [
    "subset.hist()"
   ]
  },
  {
   "cell_type": "code",
   "execution_count": 60,
   "metadata": {
    "collapsed": false
   },
   "outputs": [
    {
     "data": {
      "text/plain": [
       "array([[<matplotlib.axes._subplots.AxesSubplot object at 0x7fb11d057e90>,\n",
       "        <matplotlib.axes._subplots.AxesSubplot object at 0x7fb122c3c3d0>,\n",
       "        <matplotlib.axes._subplots.AxesSubplot object at 0x7fb11cf9bb50>],\n",
       "       [<matplotlib.axes._subplots.AxesSubplot object at 0x7fb11cf7c850>,\n",
       "        <matplotlib.axes._subplots.AxesSubplot object at 0x7fb11cef9890>,\n",
       "        <matplotlib.axes._subplots.AxesSubplot object at 0x7fb11ce785d0>],\n",
       "       [<matplotlib.axes._subplots.AxesSubplot object at 0x7fb11cde4150>,\n",
       "        <matplotlib.axes._subplots.AxesSubplot object at 0x7fb11cd61390>,\n",
       "        <matplotlib.axes._subplots.AxesSubplot object at 0x7fb11cd36d10>]], dtype=object)"
      ]
     },
     "execution_count": 60,
     "metadata": {},
     "output_type": "execute_result"
    },
    {
     "data": {
      "image/png": "[encoded data removed]",
      "text/plain": [
       "<matplotlib.figure.Figure at 0x7fb11d07be10>"
      ]
     },
     "metadata": {},
     "output_type": "display_data"
    }
   ],
   "source": [
    "from pandas.tools.plotting import scatter_matrix\n",
    "scatter_matrix(subset, alpha=0.2,  diagonal='hist')"
   ]
  },
  {
   "cell_type": "code",
   "execution_count": 59,
   "metadata": {
    "collapsed": false
   },
   "outputs": [
    {
     "data": {
      "text/plain": [
       "(395, 6)"
      ]
     },
     "execution_count": 59,
     "metadata": {},
     "output_type": "execute_result"
    }
   ],
   "source": []
  },
  {
   "cell_type": "code",
   "execution_count": null,
   "metadata": {
    "collapsed": true
   },
   "outputs": [],
   "source": []
  }
 ],
 "metadata": {
  "kernelspec": {
   "display_name": "Python 2",
   "language": "python",
   "name": "python2"
  },
  "language_info": {
   "codemirror_mode": {
    "name": "ipython",
    "version": 2
   },
   "file_extension": ".py",
   "mimetype": "text/x-python",
   "name": "python",
   "nbconvert_exporter": "python",
   "pygments_lexer": "ipython2",
   "version": "2.7.9"
  }
 },
 "nbformat": 4,
 "nbformat_minor": 0
}
